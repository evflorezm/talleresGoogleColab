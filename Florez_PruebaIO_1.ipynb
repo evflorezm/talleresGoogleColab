{
  "nbformat": 4,
  "nbformat_minor": 0,
  "metadata": {
    "colab": {
      "provenance": [],
      "authorship_tag": "ABX9TyOFcSXT0wLdMUDevS80tF5t",
      "include_colab_link": true
    },
    "kernelspec": {
      "name": "python3",
      "display_name": "Python 3"
    },
    "language_info": {
      "name": "python"
    }
  },
  "cells": [
    {
      "cell_type": "markdown",
      "metadata": {
        "id": "view-in-github",
        "colab_type": "text"
      },
      "source": [
        "<a href=\"https://colab.research.google.com/github/evflorezm/talleresGoogleColab/blob/main/Florez_PruebaIO_1.ipynb\" target=\"_parent\"><img src=\"https://colab.research.google.com/assets/colab-badge.svg\" alt=\"Open In Colab\"/></a>"
      ]
    },
    {
      "cell_type": "code",
      "execution_count": 3,
      "metadata": {
        "id": "ktWo_8sS2H4P",
        "colab": {
          "base_uri": "https://localhost:8080/"
        },
        "outputId": "4a572e13-950c-48e1-f841-33579e38c260"
      },
      "outputs": [
        {
          "output_type": "stream",
          "name": "stdout",
          "text": [
            "Buenos días  mundo\n"
          ]
        }
      ],
      "source": [
        "print('Buenos días  mundo')"
      ]
    },
    {
      "cell_type": "markdown",
      "source": [
        "#Primer ejercicio "
      ],
      "metadata": {
        "id": "s0UZ9Iw73qXh"
      }
    },
    {
      "cell_type": "markdown",
      "source": [
        "##Primer ejercicio\n",
        "\n"
      ],
      "metadata": {
        "id": "wcI5Bnr637Zq"
      }
    },
    {
      "cell_type": "markdown",
      "source": [
        "Esto es texto normal"
      ],
      "metadata": {
        "id": "0INFSPgJ40TB"
      }
    },
    {
      "cell_type": "code",
      "source": [
        "print('Buenos días , Evelin')"
      ],
      "metadata": {
        "colab": {
          "base_uri": "https://localhost:8080/"
        },
        "id": "ud10ibV-4PxR",
        "outputId": "1b267993-118c-4a69-94c0-3ad1f3b04968"
      },
      "execution_count": 4,
      "outputs": [
        {
          "output_type": "stream",
          "name": "stdout",
          "text": [
            "Buenos días , Evelin\n"
          ]
        }
      ]
    }
  ]
}